{
 "cells": [
  {
   "cell_type": "markdown",
   "id": "5d61265c",
   "metadata": {},
   "source": [
    "#### Задача 1\n"
   ]
  },
  {
   "cell_type": "markdown",
   "id": "0b5b0805",
   "metadata": {},
   "source": [
    "Используя только встроенные питоновские функции и структуры данных (т.е. без библиотек numpy, pandas и др.), посчитайте (несмещённое) среднее квадратичное отклонение для данной выборки.\n"
   ]
  },
  {
   "cell_type": "code",
   "execution_count": 1,
   "id": "4caa1242",
   "metadata": {},
   "outputs": [],
   "source": [
    "from math import sqrt"
   ]
  },
  {
   "cell_type": "code",
   "execution_count": 2,
   "id": "7cf22f8e",
   "metadata": {},
   "outputs": [],
   "source": [
    "a = [100, 80, 75, 77, 89, 33, 45, 25, 65, 17, 30, 230, 24, 57, 55, 70, 75, 65, 84, 90, 150]"
   ]
  },
  {
   "cell_type": "code",
   "execution_count": 3,
   "id": "8976a686",
   "metadata": {},
   "outputs": [
    {
     "data": {
      "text/plain": [
       "47.34795213553139"
      ]
     },
     "execution_count": 3,
     "metadata": {},
     "output_type": "execute_result"
    }
   ],
   "source": [
    "mean = sum(a) / len(a)\n",
    "b = sqrt(sum([((n - mean)**2) for n in a]) / (len(a) - 1))\n",
    "b"
   ]
  },
  {
   "cell_type": "markdown",
   "id": "a4976eff",
   "metadata": {},
   "source": [
    "#### Задача 2"
   ]
  },
  {
   "cell_type": "markdown",
   "id": "526a10f0",
   "metadata": {},
   "source": [
    "Найдите число выбросов в выборке из задачи 1. Для определения выбросов используйте методику как при построении “усов” в boxplot, однако, как и в задаче 1, пользоваться можно только встроенными функциями и структурами данных.\n"
   ]
  },
  {
   "cell_type": "code",
   "execution_count": 4,
   "id": "2e2209b0",
   "metadata": {},
   "outputs": [],
   "source": [
    "a_sort = sorted(a)\n",
    "q1 = a_sort[len(a)//4] "
   ]
  },
  {
   "cell_type": "code",
   "execution_count": 5,
   "id": "14c380ec",
   "metadata": {},
   "outputs": [],
   "source": [
    "q3 = a_sort[3*(len(a) // 4)]"
   ]
  },
  {
   "cell_type": "code",
   "execution_count": 6,
   "id": "fc129f2d",
   "metadata": {},
   "outputs": [],
   "source": [
    "outliers = []\n",
    "for num in a_sort:\n",
    "    if num > q3 + (q3 - q1)*1.5 or num < q1 - (q3 - q1)*1.5:\n",
    "        outliers.append(num)"
   ]
  },
  {
   "cell_type": "code",
   "execution_count": 7,
   "id": "f0911284",
   "metadata": {},
   "outputs": [
    {
     "data": {
      "text/plain": [
       "[150, 230]"
      ]
     },
     "execution_count": 7,
     "metadata": {},
     "output_type": "execute_result"
    }
   ],
   "source": [
    "outliers"
   ]
  },
  {
   "cell_type": "markdown",
   "id": "b80dc1db",
   "metadata": {},
   "source": [
    "#### Задача 3"
   ]
  },
  {
   "cell_type": "code",
   "execution_count": 8,
   "id": "4d96925a",
   "metadata": {},
   "outputs": [],
   "source": [
    "An = 100\n",
    "Bn = 90\n",
    "Cn = 45\n",
    "Ap = 0.6\n",
    "Bp = 0.7\n",
    "Cp = 0.8"
   ]
  },
  {
   "cell_type": "markdown",
   "id": "4f3f7a51",
   "metadata": {},
   "source": [
    "Сначала найдём соотношение учеников по факультетам к общему числу учеников."
   ]
  },
  {
   "cell_type": "code",
   "execution_count": 9,
   "id": "af155b30",
   "metadata": {},
   "outputs": [],
   "source": [
    "A = An / sum([An, Bn, Cn])\n",
    "B = Bn / sum([An, Bn, Cn])\n",
    "C = Cn / sum([An, Bn, Cn])"
   ]
  },
  {
   "cell_type": "markdown",
   "id": "507dda27",
   "metadata": {},
   "source": [
    "И домножим на данные по условию вероятности"
   ]
  },
  {
   "cell_type": "code",
   "execution_count": 10,
   "id": "3c57e925",
   "metadata": {},
   "outputs": [
    {
     "data": {
      "text/plain": [
       "0.2553191489361702"
      ]
     },
     "execution_count": 10,
     "metadata": {},
     "output_type": "execute_result"
    }
   ],
   "source": [
    "A*Ap"
   ]
  },
  {
   "cell_type": "code",
   "execution_count": 11,
   "id": "c52e2782",
   "metadata": {},
   "outputs": [
    {
     "data": {
      "text/plain": [
       "0.2680851063829787"
      ]
     },
     "execution_count": 11,
     "metadata": {},
     "output_type": "execute_result"
    }
   ],
   "source": [
    "B*Bp"
   ]
  },
  {
   "cell_type": "code",
   "execution_count": 12,
   "id": "706aa71e",
   "metadata": {},
   "outputs": [
    {
     "data": {
      "text/plain": [
       "0.15319148936170213"
      ]
     },
     "execution_count": 12,
     "metadata": {},
     "output_type": "execute_result"
    }
   ],
   "source": [
    "C*Cp"
   ]
  },
  {
   "cell_type": "markdown",
   "id": "112b51ca",
   "metadata": {},
   "source": [
    "Наиболее вероятно, что студент факультета B сдаст сессию первым."
   ]
  }
 ],
 "metadata": {
  "kernelspec": {
   "display_name": "Python 3 (ipykernel)",
   "language": "python",
   "name": "python3"
  },
  "language_info": {
   "codemirror_mode": {
    "name": "ipython",
    "version": 3
   },
   "file_extension": ".py",
   "mimetype": "text/x-python",
   "name": "python",
   "nbconvert_exporter": "python",
   "pygments_lexer": "ipython3",
   "version": "3.8.5"
  }
 },
 "nbformat": 4,
 "nbformat_minor": 5
}
