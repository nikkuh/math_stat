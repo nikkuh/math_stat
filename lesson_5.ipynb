{
 "cells": [
  {
   "cell_type": "markdown",
   "id": "76ea53ef",
   "metadata": {},
   "source": [
    "Известно, что генеральная совокупность распределена нормально\n",
    "со средним квадратическим отклонением, равным 16.\n",
    "Найти доверительный интервал для оценки математического ожидания a с надежностью 0.95,\n",
    "если выборочная средняя M = 80, а объем выборки n = 256."
   ]
  },
  {
   "cell_type": "code",
   "execution_count": 1,
   "id": "5d31bb7d",
   "metadata": {},
   "outputs": [],
   "source": [
    "std = 16\n",
    "M = 80\n",
    "a = 0.95\n",
    "n = 256"
   ]
  },
  {
   "cell_type": "markdown",
   "id": "55fd9a3f",
   "metadata": {},
   "source": [
    "Доверительный интервал 95% означает, что нам нужно будет использовать квантили 2.5% и 97.5%, которым соответствует значение из таблицы z-значений -1.96 и 1.96 соответственно.\n",
    "\n",
    "Есть формула для доверительных интервалов: $\\mu \\pm z_{\\alpha/2} \\cdot \\dfrac{\\sigma}{\\sqrt{n}}$"
   ]
  },
  {
   "cell_type": "code",
   "execution_count": 2,
   "id": "fe13039d",
   "metadata": {},
   "outputs": [],
   "source": [
    "z = 1.96"
   ]
  },
  {
   "cell_type": "markdown",
   "id": "8e89c739",
   "metadata": {},
   "source": [
    "Внимательно посмотрев на формулу, можно сказать, что для нахождения длины интервала потребуется сделать следующее:\n",
    "\n",
    "$2 \\cdot z_{\\alpha/2} \\cdot \\dfrac{\\sigma}{\\sqrt{n}}$\n",
    "\n",
    "Длина интервала никак не будет зависеть от выборочной средней."
   ]
  },
  {
   "cell_type": "code",
   "execution_count": 3,
   "id": "b3ee096c",
   "metadata": {},
   "outputs": [
    {
     "data": {
      "text/plain": [
       "3.92"
      ]
     },
     "execution_count": 3,
     "metadata": {},
     "output_type": "execute_result"
    }
   ],
   "source": [
    "from math import sqrt\n",
    "i = 2 * z * (std / sqrt(n))\n",
    "i"
   ]
  },
  {
   "cell_type": "markdown",
   "id": "93c0a66a",
   "metadata": {},
   "source": [
    "#### Ответ:\n",
    "3.92"
   ]
  },
  {
   "cell_type": "markdown",
   "id": "bbc73090",
   "metadata": {},
   "source": [
    "Продавец утверждает, что средний вес пачки печенья составляет 200 г. Из партии извлечена выборка из 10 пачек. Вес каждой пачки составляет:\n",
    "```\n",
    "202, 203, 199, 197, 195, 201, 200, 204, 194, 190\n",
    "```\n",
    "Известно, что их веса распределены нормально. Верно ли утверждение продавца, если учитывать, что уровень значимости равен 1%? Найдите P-значение для данного теста и укажите его в качестве ответа."
   ]
  },
  {
   "cell_type": "code",
   "execution_count": 14,
   "id": "46a65db5",
   "metadata": {},
   "outputs": [],
   "source": [
    "import numpy as np\n",
    "a = [202, 203, 199, 197, 195, 201, 200, 204, 194, 190]\n",
    "X = np.array(a)\n",
    "alpha = 0.01\n",
    "mu = 200\n",
    "n = len(X)\n",
    "std = X.std()\n",
    "mean = X.mean()"
   ]
  },
  {
   "cell_type": "code",
   "execution_count": 13,
   "id": "2bff9670",
   "metadata": {},
   "outputs": [
    {
     "data": {
      "text/plain": [
       "4.224926034855522"
      ]
     },
     "execution_count": 13,
     "metadata": {},
     "output_type": "execute_result"
    }
   ],
   "source": [
    "X.std()"
   ]
  },
  {
   "cell_type": "markdown",
   "id": "264c21e6",
   "metadata": {},
   "source": [
    "Уровню значимости 1% будут соответствовать квантилям 0.5% и 99.5%\n",
    "\n",
    "Значения из z-таблицы для таких величин будут -2.58 и 2.58"
   ]
  },
  {
   "cell_type": "markdown",
   "id": "bf0c6299",
   "metadata": {},
   "source": [
    "Теперь найдём значение z по формуле: $z = \\dfrac {\\overline{X} - \\mu}{\\sigma / \\sqrt{n}}$"
   ]
  },
  {
   "cell_type": "code",
   "execution_count": 15,
   "id": "f1413d2c",
   "metadata": {},
   "outputs": [],
   "source": [
    "z = (mean - mu) / (std/sqrt(n))"
   ]
  },
  {
   "cell_type": "code",
   "execution_count": 16,
   "id": "e5d20e61",
   "metadata": {},
   "outputs": [
    {
     "data": {
      "text/plain": [
       "-1.1227217828476797"
      ]
     },
     "execution_count": 16,
     "metadata": {},
     "output_type": "execute_result"
    }
   ],
   "source": [
    "z"
   ]
  },
  {
   "cell_type": "markdown",
   "id": "6caf8fcb",
   "metadata": {},
   "source": [
    "Видим, что расчётное значение $z$ входит в интервал определённый уровнем значимости.\n",
    "\n",
    "Это значит, что продавец печенья был прав."
   ]
  },
  {
   "cell_type": "markdown",
   "id": "5ff0b32e",
   "metadata": {},
   "source": [
    "Найдём по таблице значение соответствующее z = -1.12\n",
    "\n",
    "Это будет примерно 0.868\n",
    "\n",
    "Теперь найдём P значние"
   ]
  },
  {
   "cell_type": "code",
   "execution_count": 17,
   "id": "9c15cf8c",
   "metadata": {},
   "outputs": [],
   "source": [
    "b = 0.868"
   ]
  },
  {
   "cell_type": "code",
   "execution_count": 19,
   "id": "ff38138c",
   "metadata": {},
   "outputs": [
    {
     "data": {
      "text/plain": [
       "0.264"
      ]
     },
     "execution_count": 19,
     "metadata": {},
     "output_type": "execute_result"
    }
   ],
   "source": [
    "P = 2 * (1 - b)"
   ]
  },
  {
   "cell_type": "markdown",
   "id": "87409f2d",
   "metadata": {},
   "source": [
    "#### Ответ:\n",
    "Продавец был прав, P-значние = 0.264"
   ]
  },
  {
   "cell_type": "code",
   "execution_count": null,
   "id": "660c45f1",
   "metadata": {},
   "outputs": [],
   "source": []
  },
  {
   "cell_type": "markdown",
   "id": "03974fe2",
   "metadata": {},
   "source": [
    "С 3ей задачей не разобрался"
   ]
  }
 ],
 "metadata": {
  "kernelspec": {
   "display_name": "Python 3 (ipykernel)",
   "language": "python",
   "name": "python3"
  },
  "language_info": {
   "codemirror_mode": {
    "name": "ipython",
    "version": 3
   },
   "file_extension": ".py",
   "mimetype": "text/x-python",
   "name": "python",
   "nbconvert_exporter": "python",
   "pygments_lexer": "ipython3",
   "version": "3.8.5"
  }
 },
 "nbformat": 4,
 "nbformat_minor": 5
}
