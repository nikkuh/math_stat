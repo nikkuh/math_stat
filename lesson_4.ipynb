{
 "cells": [
  {
   "cell_type": "markdown",
   "id": "8a19ece3",
   "metadata": {},
   "source": [
    "1. Случайная непрерывная величина A имеет равномерное распределение на промежутке (200, 800].\n",
    "Найдите ее среднее значение и дисперсию.\n"
   ]
  },
  {
   "cell_type": "markdown",
   "id": "7d1e066c",
   "metadata": {},
   "source": [
    "$M(X) = \\dfrac{a+b}{2}$\n",
    "\n",
    "$D(X) = \\dfrac{(b-a)^2}{12}$"
   ]
  },
  {
   "cell_type": "code",
   "execution_count": 1,
   "id": "8faf1d9f",
   "metadata": {},
   "outputs": [
    {
     "data": {
      "text/plain": [
       "500.0"
      ]
     },
     "execution_count": 1,
     "metadata": {},
     "output_type": "execute_result"
    }
   ],
   "source": [
    "a = 200 \n",
    "b = 800\n",
    "M = (a + b) / 2\n",
    "M"
   ]
  },
  {
   "cell_type": "code",
   "execution_count": 2,
   "id": "2b761394",
   "metadata": {},
   "outputs": [
    {
     "data": {
      "text/plain": [
       "30000.0"
      ]
     },
     "execution_count": 2,
     "metadata": {},
     "output_type": "execute_result"
    }
   ],
   "source": [
    "D = ((b - a) ** 2) / 12\n",
    "D"
   ]
  },
  {
   "cell_type": "markdown",
   "id": "ddf0083d",
   "metadata": {},
   "source": [
    "#### Ответ:\n",
    "\n",
    "Среднее значение M = 500\n",
    "\n",
    "Дисперсия D = 30000"
   ]
  },
  {
   "cell_type": "code",
   "execution_count": null,
   "id": "26c7004c",
   "metadata": {},
   "outputs": [],
   "source": []
  },
  {
   "cell_type": "markdown",
   "id": "594a1c87",
   "metadata": {},
   "source": [
    "2. О случайной непрерывной равномерно распределенной величине B известно, что ее дисперсия равна 0.2.\n",
    "Можно ли найти правую границу величины B и ее среднее значение зная, что левая граница равна 0.5?\n",
    "Если да, найдите ее.\n"
   ]
  },
  {
   "cell_type": "markdown",
   "id": "08ee8556",
   "metadata": {},
   "source": [
    "Вроде бы найти эти значения можно, т.к. они легко выводятся из формул дисперсии и математического ожидания для равномерно распределенной величины."
   ]
  },
  {
   "cell_type": "code",
   "execution_count": 3,
   "id": "b87c1143",
   "metadata": {},
   "outputs": [],
   "source": [
    "a = 0.5\n",
    "D = 0.2"
   ]
  },
  {
   "cell_type": "markdown",
   "id": "8fe356f8",
   "metadata": {},
   "source": [
    "$D(X) = \\dfrac{(b-a)^2}{12}$\n",
    "\n",
    "$12D = b^2 - 2ab + a^2$\n",
    "\n",
    "$b^2 - b - 2.15 = 0$"
   ]
  },
  {
   "cell_type": "markdown",
   "id": "8b85307f",
   "metadata": {},
   "source": [
    "В результате решения квадратного уравнения получается 2 корня (-1.05 и 2.05), один из которых отрицательный и не подходит на роль правой границы, т.к. правая граница должна быть больше левой."
   ]
  },
  {
   "cell_type": "code",
   "execution_count": 4,
   "id": "2d9b4d2a",
   "metadata": {},
   "outputs": [],
   "source": [
    "b = 2.05"
   ]
  },
  {
   "cell_type": "markdown",
   "id": "43e95d40",
   "metadata": {},
   "source": [
    "$M(X) = \\dfrac{a+b}{2}$"
   ]
  },
  {
   "cell_type": "code",
   "execution_count": 5,
   "id": "533d63e3",
   "metadata": {},
   "outputs": [
    {
     "data": {
      "text/plain": [
       "1.275"
      ]
     },
     "execution_count": 5,
     "metadata": {},
     "output_type": "execute_result"
    }
   ],
   "source": [
    "M = (a + b) / 2\n",
    "M"
   ]
  },
  {
   "cell_type": "markdown",
   "id": "f36a494a",
   "metadata": {},
   "source": [
    "#### Ответ:\n",
    "\n",
    "Правая граница b = 2.05\n",
    "Среднее значение M = 1.275"
   ]
  },
  {
   "cell_type": "code",
   "execution_count": null,
   "id": "200c9db9",
   "metadata": {},
   "outputs": [],
   "source": []
  },
  {
   "cell_type": "markdown",
   "id": "11b3bdd7",
   "metadata": {},
   "source": [
    "3. Непрерывная случайная величина X распределена нормально и задана плотностью распределения\n",
    "\n",
    "\n",
    "f(x) = (1 / (4 * sqrt(2*pi))) * (exp(-(x+2) * *2) / 32).\n",
    "\n",
    "Найдите:\n",
    "а). M(X)\n",
    "б). D(X)\n",
    "в). std(X) (среднее квадратичное отклонение)\n"
   ]
  },
  {
   "cell_type": "markdown",
   "id": "5dfbb34b",
   "metadata": {},
   "source": [
    "Сопоставив заданную функцию плотности с функцией плотности нормального распределения по определению, несложно увидеть чему будут равны искомые значения.\n",
    "\n",
    "$f(x) = \\dfrac{1}{\\sqrt{2\\pi \\sigma^2}} \\cdot e^{-\\dfrac {(x-\\mu)^2}{2\\sigma^2}}$\n",
    "\n",
    "$f(x) = \\dfrac{1}{4\\sqrt{2\\pi}} \\cdot e^{-\\dfrac {(x+2)^2}{32}}$"
   ]
  },
  {
   "cell_type": "markdown",
   "id": "8493c89d",
   "metadata": {},
   "source": [
    "#### Ответ:\n",
    "\n",
    "$D(X) = 16$\n",
    "\n",
    "$M(X) = \\mu = -2$\n",
    "\n",
    "$\\sigma = \\sqrt{D(X)} = 4$\n"
   ]
  },
  {
   "cell_type": "code",
   "execution_count": null,
   "id": "04ff1883",
   "metadata": {},
   "outputs": [],
   "source": []
  },
  {
   "cell_type": "markdown",
   "id": "32c39739",
   "metadata": {},
   "source": [
    "4. Рост взрослого населения города X имеет нормальное распределение.\n",
    "Причем, средний рост равен 174 см, а среднее квадратичное отклонение равно 8 см.\n",
    "Какова вероятность того, что случайным образом выбранный взрослый человек имеет рост:\n",
    "\n",
    "а). больше 182 см\n",
    "\n",
    "б). больше 190 см\n",
    "\n",
    "в). от 166 см до 190 см\n",
    "\n",
    "г). от 166 см до 182 см\n",
    "\n",
    "д). от 158 см до 190 см\n",
    "\n",
    "е). не выше 150 см или не ниже 190 см\n",
    "\n",
    "ё). не выше 150 см или не ниже 198 см\n",
    "\n",
    "ж). ниже 166 см.\n"
   ]
  },
  {
   "cell_type": "markdown",
   "id": "4e34848d",
   "metadata": {},
   "source": [
    "$\\mu = 174$\n",
    "\n",
    "$\\sigma = 8$"
   ]
  },
  {
   "cell_type": "code",
   "execution_count": 6,
   "id": "455a32e4",
   "metadata": {},
   "outputs": [],
   "source": [
    "mu = 174\n",
    "std = 8"
   ]
  },
  {
   "cell_type": "code",
   "execution_count": 7,
   "id": "c3a462ce",
   "metadata": {},
   "outputs": [],
   "source": [
    "def find_z(x):\n",
    "    return (x - mu) / std"
   ]
  },
  {
   "cell_type": "code",
   "execution_count": 8,
   "id": "c9553ec3",
   "metadata": {},
   "outputs": [
    {
     "data": {
      "text/plain": [
       "1.0"
      ]
     },
     "execution_count": 8,
     "metadata": {},
     "output_type": "execute_result"
    }
   ],
   "source": [
    "z1 = find_z(182)\n",
    "z1"
   ]
  },
  {
   "cell_type": "code",
   "execution_count": 10,
   "id": "32a9f7d6",
   "metadata": {},
   "outputs": [],
   "source": [
    "p1 = 0.16"
   ]
  },
  {
   "cell_type": "code",
   "execution_count": 11,
   "id": "1c03097e",
   "metadata": {},
   "outputs": [
    {
     "data": {
      "text/plain": [
       "2.0"
      ]
     },
     "execution_count": 11,
     "metadata": {},
     "output_type": "execute_result"
    }
   ],
   "source": [
    "z2 = find_z(190)\n",
    "z2"
   ]
  },
  {
   "cell_type": "code",
   "execution_count": 12,
   "id": "a7fff6f0",
   "metadata": {},
   "outputs": [],
   "source": [
    "p2 = 0.023"
   ]
  },
  {
   "cell_type": "code",
   "execution_count": 15,
   "id": "1398c527",
   "metadata": {},
   "outputs": [
    {
     "data": {
      "text/plain": [
       "-1.0"
      ]
     },
     "execution_count": 15,
     "metadata": {},
     "output_type": "execute_result"
    }
   ],
   "source": [
    "z3a = find_z(166)\n",
    "z3a"
   ]
  },
  {
   "cell_type": "code",
   "execution_count": 14,
   "id": "a280196d",
   "metadata": {},
   "outputs": [],
   "source": [
    "p3 = 0.818"
   ]
  },
  {
   "cell_type": "code",
   "execution_count": 16,
   "id": "9f62eec7",
   "metadata": {},
   "outputs": [],
   "source": [
    "p4 = 0.681"
   ]
  },
  {
   "cell_type": "code",
   "execution_count": 18,
   "id": "c1070e78",
   "metadata": {},
   "outputs": [
    {
     "data": {
      "text/plain": [
       "-2.0"
      ]
     },
     "execution_count": 18,
     "metadata": {},
     "output_type": "execute_result"
    }
   ],
   "source": [
    "z5a = find_z(158)\n",
    "z5a"
   ]
  },
  {
   "cell_type": "code",
   "execution_count": 19,
   "id": "1aca7323",
   "metadata": {},
   "outputs": [],
   "source": [
    "p5 = 0.954"
   ]
  },
  {
   "cell_type": "code",
   "execution_count": 21,
   "id": "1a802c73",
   "metadata": {},
   "outputs": [
    {
     "data": {
      "text/plain": [
       "-3.0"
      ]
     },
     "execution_count": 21,
     "metadata": {},
     "output_type": "execute_result"
    }
   ],
   "source": [
    "z6a = find_z(150)\n",
    "z6a"
   ]
  },
  {
   "cell_type": "code",
   "execution_count": 22,
   "id": "47c28396",
   "metadata": {},
   "outputs": [],
   "source": [
    "p6 = 0.025"
   ]
  },
  {
   "cell_type": "code",
   "execution_count": 25,
   "id": "4d48c054",
   "metadata": {},
   "outputs": [
    {
     "data": {
      "text/plain": [
       "3.0"
      ]
     },
     "execution_count": 25,
     "metadata": {},
     "output_type": "execute_result"
    }
   ],
   "source": [
    "z7b = find_z(198)\n",
    "z7b"
   ]
  },
  {
   "cell_type": "code",
   "execution_count": 23,
   "id": "9f658e7c",
   "metadata": {},
   "outputs": [],
   "source": [
    "p7 = 0.004"
   ]
  },
  {
   "cell_type": "code",
   "execution_count": 27,
   "id": "2c35f143",
   "metadata": {},
   "outputs": [
    {
     "data": {
      "text/plain": [
       "-1.0"
      ]
     },
     "execution_count": 27,
     "metadata": {},
     "output_type": "execute_result"
    }
   ],
   "source": [
    "z8 = find_z(166)\n",
    "z8"
   ]
  },
  {
   "cell_type": "code",
   "execution_count": 28,
   "id": "a851ff95",
   "metadata": {},
   "outputs": [],
   "source": [
    "p8 = 0.159"
   ]
  },
  {
   "cell_type": "markdown",
   "id": "26fbf781",
   "metadata": {},
   "source": [
    "#### Ответ:\n",
    "\n",
    "а) Больше 182см = 0.16\n",
    "\n",
    "б) Больше 190см = 0.023\n",
    "\n",
    "в) От 166см до 190см = 0.818\n",
    "\n",
    "г) От 166см до 182см = 0.681\n",
    "\n",
    "д) От 158см до 190см = 0.954\n",
    "\n",
    "е) Не выше 150см или не ниже 190см = 0.025\n",
    "\n",
    "ё) Не выше 150см или не ниже 198см = 0.004\n",
    "\n",
    "ж) Ниже 166см = 0.159"
   ]
  },
  {
   "cell_type": "code",
   "execution_count": null,
   "id": "1dde31c5",
   "metadata": {},
   "outputs": [],
   "source": []
  },
  {
   "cell_type": "markdown",
   "id": "d2af7cba",
   "metadata": {},
   "source": [
    "\n",
    "5. На сколько сигм (средних квадратичных отклонений) отклоняется рост человека, равный 190 см, от\n",
    "математического ожидания роста в популяции, в которой M(X) = 178 см и D(X) = 25 кв.см?\n"
   ]
  },
  {
   "cell_type": "code",
   "execution_count": 30,
   "id": "80e0c030",
   "metadata": {},
   "outputs": [],
   "source": [
    "from math import sqrt\n",
    "x = 190\n",
    "M = 178\n",
    "D = 25"
   ]
  },
  {
   "cell_type": "code",
   "execution_count": 31,
   "id": "45775aa0",
   "metadata": {},
   "outputs": [
    {
     "data": {
      "text/plain": [
       "2.4"
      ]
     },
     "execution_count": 31,
     "metadata": {},
     "output_type": "execute_result"
    }
   ],
   "source": [
    "std = (x - M) / sqrt(D)\n",
    "std"
   ]
  },
  {
   "cell_type": "markdown",
   "id": "edcc315f",
   "metadata": {},
   "source": [
    "#### Ответ:\n",
    "\n",
    "отклоняется на 2.4 сигмы."
   ]
  },
  {
   "cell_type": "code",
   "execution_count": null,
   "id": "51c19aff",
   "metadata": {},
   "outputs": [],
   "source": []
  }
 ],
 "metadata": {
  "kernelspec": {
   "display_name": "Python 3 (ipykernel)",
   "language": "python",
   "name": "python3"
  },
  "language_info": {
   "codemirror_mode": {
    "name": "ipython",
    "version": 3
   },
   "file_extension": ".py",
   "mimetype": "text/x-python",
   "name": "python",
   "nbconvert_exporter": "python",
   "pygments_lexer": "ipython3",
   "version": "3.8.5"
  }
 },
 "nbformat": 4,
 "nbformat_minor": 5
}
